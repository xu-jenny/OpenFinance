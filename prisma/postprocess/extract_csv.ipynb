{
 "cells": [
  {
   "attachments": {},
   "cell_type": "markdown",
   "metadata": {},
   "source": [
    "Process CSV, in future all raw csvs should be uploaded to s3 bucket and this should be plugged to that"
   ]
  },
  {
   "cell_type": "code",
   "execution_count": null,
   "metadata": {},
   "outputs": [],
   "source": []
  },
  {
   "attachments": {},
   "cell_type": "markdown",
   "metadata": {},
   "source": [
    "## MinneapolisCrimeData"
   ]
  },
  {
   "cell_type": "code",
   "execution_count": 60,
   "metadata": {},
   "outputs": [
    {
     "data": {
      "text/html": [
       "<div>\n",
       "<style scoped>\n",
       "    .dataframe tbody tr th:only-of-type {\n",
       "        vertical-align: middle;\n",
       "    }\n",
       "\n",
       "    .dataframe tbody tr th {\n",
       "        vertical-align: top;\n",
       "    }\n",
       "\n",
       "    .dataframe thead th {\n",
       "        text-align: right;\n",
       "    }\n",
       "</style>\n",
       "<table border=\"1\" class=\"dataframe\">\n",
       "  <thead>\n",
       "    <tr style=\"text-align: right;\">\n",
       "      <th></th>\n",
       "      <th>X</th>\n",
       "      <th>Y</th>\n",
       "      <th>Type</th>\n",
       "      <th>Case_Number</th>\n",
       "      <th>Case_NumberAlt</th>\n",
       "      <th>Reported_Date</th>\n",
       "      <th>Occurred_Date</th>\n",
       "      <th>NIBRS_Crime_Against</th>\n",
       "      <th>NIBRS_Group</th>\n",
       "      <th>NIBRS_Code</th>\n",
       "      <th>...</th>\n",
       "      <th>Address</th>\n",
       "      <th>Precinct</th>\n",
       "      <th>Neighborhood</th>\n",
       "      <th>Ward</th>\n",
       "      <th>Latitude</th>\n",
       "      <th>Longitude</th>\n",
       "      <th>wgsXAnon</th>\n",
       "      <th>wgsYAnon</th>\n",
       "      <th>Crime_Count</th>\n",
       "      <th>OBJECTID</th>\n",
       "    </tr>\n",
       "  </thead>\n",
       "  <tbody>\n",
       "    <tr>\n",
       "      <th>0</th>\n",
       "      <td>-93.305081</td>\n",
       "      <td>44.994154</td>\n",
       "      <td>Additional Crime Metrics</td>\n",
       "      <td>19-000549</td>\n",
       "      <td>MP2019549</td>\n",
       "      <td>2019/01/01 13:26:00+00</td>\n",
       "      <td>2019/01/01 12:08:00+00</td>\n",
       "      <td>Non NIBRS Data</td>\n",
       "      <td>Non NIBRS Data</td>\n",
       "      <td>Non NIBRS Data</td>\n",
       "      <td>...</td>\n",
       "      <td>0019XX 15TH AVE N</td>\n",
       "      <td>4.0</td>\n",
       "      <td>Willard - Hay</td>\n",
       "      <td>5.0</td>\n",
       "      <td>44.99415</td>\n",
       "      <td>-93.30508</td>\n",
       "      <td>-1.038667e+07</td>\n",
       "      <td>5.620601e+06</td>\n",
       "      <td>1</td>\n",
       "      <td>1</td>\n",
       "    </tr>\n",
       "    <tr>\n",
       "      <th>1</th>\n",
       "      <td>-93.305717</td>\n",
       "      <td>45.015933</td>\n",
       "      <td>Additional Crime Metrics</td>\n",
       "      <td>19-001124</td>\n",
       "      <td>MP20191124</td>\n",
       "      <td>2019/01/02 04:17:00+00</td>\n",
       "      <td>2019/01/02 02:07:00+00</td>\n",
       "      <td>Non NIBRS Data</td>\n",
       "      <td>Non NIBRS Data</td>\n",
       "      <td>Non NIBRS Data</td>\n",
       "      <td>...</td>\n",
       "      <td>0033XX NEWTON AVE N</td>\n",
       "      <td>4.0</td>\n",
       "      <td>Folwell</td>\n",
       "      <td>4.0</td>\n",
       "      <td>45.01593</td>\n",
       "      <td>-93.30572</td>\n",
       "      <td>-1.038674e+07</td>\n",
       "      <td>5.624030e+06</td>\n",
       "      <td>1</td>\n",
       "      <td>2</td>\n",
       "    </tr>\n",
       "    <tr>\n",
       "      <th>2</th>\n",
       "      <td>-93.311416</td>\n",
       "      <td>44.995151</td>\n",
       "      <td>Additional Crime Metrics</td>\n",
       "      <td>19-005305</td>\n",
       "      <td>MP20195305</td>\n",
       "      <td>2019/01/06 09:28:00+00</td>\n",
       "      <td>2019/01/06 03:00:00+00</td>\n",
       "      <td>Non NIBRS Data</td>\n",
       "      <td>Non NIBRS Data</td>\n",
       "      <td>Non NIBRS Data</td>\n",
       "      <td>...</td>\n",
       "      <td>0024XX 16TH AVE N</td>\n",
       "      <td>4.0</td>\n",
       "      <td>Willard - Hay</td>\n",
       "      <td>5.0</td>\n",
       "      <td>44.99515</td>\n",
       "      <td>-93.31142</td>\n",
       "      <td>-1.038738e+07</td>\n",
       "      <td>5.620758e+06</td>\n",
       "      <td>1</td>\n",
       "      <td>3</td>\n",
       "    </tr>\n",
       "    <tr>\n",
       "      <th>3</th>\n",
       "      <td>-93.300005</td>\n",
       "      <td>45.020398</td>\n",
       "      <td>Additional Crime Metrics</td>\n",
       "      <td>19-018580</td>\n",
       "      <td>MP201918580</td>\n",
       "      <td>2019/01/19 17:42:00+00</td>\n",
       "      <td>2019/01/19 16:50:00+00</td>\n",
       "      <td>Non NIBRS Data</td>\n",
       "      <td>Non NIBRS Data</td>\n",
       "      <td>Non NIBRS Data</td>\n",
       "      <td>...</td>\n",
       "      <td>0016XX 36TH AVE N</td>\n",
       "      <td>4.0</td>\n",
       "      <td>Folwell</td>\n",
       "      <td>4.0</td>\n",
       "      <td>45.02040</td>\n",
       "      <td>-93.30001</td>\n",
       "      <td>-1.038611e+07</td>\n",
       "      <td>5.624733e+06</td>\n",
       "      <td>1</td>\n",
       "      <td>4</td>\n",
       "    </tr>\n",
       "    <tr>\n",
       "      <th>4</th>\n",
       "      <td>-93.276015</td>\n",
       "      <td>44.944962</td>\n",
       "      <td>Additional Crime Metrics</td>\n",
       "      <td>19-021685</td>\n",
       "      <td>MP201921685</td>\n",
       "      <td>2019/01/23 04:58:00+00</td>\n",
       "      <td>2019/01/23 01:15:00+00</td>\n",
       "      <td>Non NIBRS Data</td>\n",
       "      <td>Non NIBRS Data</td>\n",
       "      <td>Non NIBRS Data</td>\n",
       "      <td>...</td>\n",
       "      <td>0001XX 32ND ST E</td>\n",
       "      <td>5.0</td>\n",
       "      <td>Lyndale</td>\n",
       "      <td>8.0</td>\n",
       "      <td>44.94496</td>\n",
       "      <td>-93.27602</td>\n",
       "      <td>-1.038344e+07</td>\n",
       "      <td>5.612861e+06</td>\n",
       "      <td>1</td>\n",
       "      <td>5</td>\n",
       "    </tr>\n",
       "  </tbody>\n",
       "</table>\n",
       "<p>5 rows × 24 columns</p>\n",
       "</div>"
      ],
      "text/plain": [
       "           X          Y                      Type Case_Number Case_NumberAlt  \\\n",
       "0 -93.305081  44.994154  Additional Crime Metrics   19-000549      MP2019549   \n",
       "1 -93.305717  45.015933  Additional Crime Metrics   19-001124     MP20191124   \n",
       "2 -93.311416  44.995151  Additional Crime Metrics   19-005305     MP20195305   \n",
       "3 -93.300005  45.020398  Additional Crime Metrics   19-018580    MP201918580   \n",
       "4 -93.276015  44.944962  Additional Crime Metrics   19-021685    MP201921685   \n",
       "\n",
       "            Reported_Date           Occurred_Date NIBRS_Crime_Against  \\\n",
       "0  2019/01/01 13:26:00+00  2019/01/01 12:08:00+00      Non NIBRS Data   \n",
       "1  2019/01/02 04:17:00+00  2019/01/02 02:07:00+00      Non NIBRS Data   \n",
       "2  2019/01/06 09:28:00+00  2019/01/06 03:00:00+00      Non NIBRS Data   \n",
       "3  2019/01/19 17:42:00+00  2019/01/19 16:50:00+00      Non NIBRS Data   \n",
       "4  2019/01/23 04:58:00+00  2019/01/23 01:15:00+00      Non NIBRS Data   \n",
       "\n",
       "      NIBRS_Group      NIBRS_Code  ...              Address Precinct  \\\n",
       "0  Non NIBRS Data  Non NIBRS Data  ...    0019XX 15TH AVE N      4.0   \n",
       "1  Non NIBRS Data  Non NIBRS Data  ...  0033XX NEWTON AVE N      4.0   \n",
       "2  Non NIBRS Data  Non NIBRS Data  ...    0024XX 16TH AVE N      4.0   \n",
       "3  Non NIBRS Data  Non NIBRS Data  ...    0016XX 36TH AVE N      4.0   \n",
       "4  Non NIBRS Data  Non NIBRS Data  ...     0001XX 32ND ST E      5.0   \n",
       "\n",
       "    Neighborhood Ward  Latitude  Longitude      wgsXAnon      wgsYAnon  \\\n",
       "0  Willard - Hay  5.0  44.99415  -93.30508 -1.038667e+07  5.620601e+06   \n",
       "1        Folwell  4.0  45.01593  -93.30572 -1.038674e+07  5.624030e+06   \n",
       "2  Willard - Hay  5.0  44.99515  -93.31142 -1.038738e+07  5.620758e+06   \n",
       "3        Folwell  4.0  45.02040  -93.30001 -1.038611e+07  5.624733e+06   \n",
       "4        Lyndale  8.0  44.94496  -93.27602 -1.038344e+07  5.612861e+06   \n",
       "\n",
       "   Crime_Count  OBJECTID  \n",
       "0            1         1  \n",
       "1            1         2  \n",
       "2            1         3  \n",
       "3            1         4  \n",
       "4            1         5  \n",
       "\n",
       "[5 rows x 24 columns]"
      ]
     },
     "execution_count": 60,
     "metadata": {},
     "output_type": "execute_result"
    }
   ],
   "source": [
    "import pandas as pd\n",
    "\n",
    "df = pd.read_csv(\"../data/MinneapolisCrimeData.csv\")\n",
    "df.head()"
   ]
  },
  {
   "cell_type": "code",
   "execution_count": 61,
   "metadata": {},
   "outputs": [
    {
     "data": {
      "text/plain": [
       "X                       10590\n",
       "Y                       10597\n",
       "Type                        4\n",
       "Case_Number            216288\n",
       "Case_NumberAlt         182508\n",
       "Reported_Date          209336\n",
       "Occurred_Date          171352\n",
       "NIBRS_Crime_Against         5\n",
       "NIBRS_Group                 2\n",
       "NIBRS_Code                 52\n",
       "Offense_Category           27\n",
       "Offense                    53\n",
       "Problem_Initial           349\n",
       "Problem_Final             149\n",
       "Address                  9861\n",
       "Precinct                    5\n",
       "Neighborhood               87\n",
       "Ward                       13\n",
       "Latitude                 5075\n",
       "Longitude                5787\n",
       "wgsXAnon                10596\n",
       "wgsYAnon                10599\n",
       "Crime_Count                15\n",
       "OBJECTID               240790\n",
       "dtype: int64"
      ]
     },
     "execution_count": 61,
     "metadata": {},
     "output_type": "execute_result"
    }
   ],
   "source": [
    "df.nunique()"
   ]
  },
  {
   "cell_type": "code",
   "execution_count": 52,
   "metadata": {},
   "outputs": [
    {
     "data": {
      "text/plain": [
       "21-039968    7\n",
       "21-177514    6\n",
       "22-193277    6\n",
       "23-193821    6\n",
       "21-064115    6\n",
       "            ..\n",
       "20-280040    1\n",
       "20-706706    1\n",
       "20-280186    1\n",
       "20-706725    1\n",
       "23-206670    1\n",
       "Name: Case_Number, Length: 216288, dtype: int64"
      ]
     },
     "execution_count": 52,
     "metadata": {},
     "output_type": "execute_result"
    }
   ],
   "source": [
    "df.Case_Number.value_counts()"
   ]
  },
  {
   "cell_type": "code",
   "execution_count": 47,
   "metadata": {},
   "outputs": [
    {
     "data": {
      "text/plain": [
       "(240790, 24)"
      ]
     },
     "execution_count": 47,
     "metadata": {},
     "output_type": "execute_result"
    }
   ],
   "source": [
    "df.shape"
   ]
  },
  {
   "cell_type": "code",
   "execution_count": 46,
   "metadata": {},
   "outputs": [
    {
     "data": {
      "text/plain": [
       "X                          0\n",
       "Y                          0\n",
       "Type                       0\n",
       "Case_Number                0\n",
       "Case_NumberAlt         33782\n",
       "Reported_Date              0\n",
       "Occurred_Date              1\n",
       "NIBRS_Crime_Against        0\n",
       "NIBRS_Group                0\n",
       "NIBRS_Code                 0\n",
       "Offense_Category           0\n",
       "Offense                    0\n",
       "Problem_Initial        44291\n",
       "Problem_Final          44291\n",
       "Address                   60\n",
       "Precinct                1494\n",
       "Neighborhood            1576\n",
       "Ward                    1712\n",
       "Latitude                   0\n",
       "Longitude                  0\n",
       "wgsXAnon                   0\n",
       "wgsYAnon                   0\n",
       "Crime_Count                0\n",
       "OBJECTID                   0\n",
       "dtype: int64"
      ]
     },
     "execution_count": 46,
     "metadata": {},
     "output_type": "execute_result"
    }
   ],
   "source": [
    "df.isna().sum()"
   ]
  },
  {
   "cell_type": "code",
   "execution_count": 3,
   "metadata": {},
   "outputs": [
    {
     "data": {
      "text/plain": [
       "Crime Offenses (NIBRS)      194757\n",
       "Shots Fired Calls            38630\n",
       "Additional Crime Metrics      5536\n",
       "Gunshot Wound Victims         1867\n",
       "Name: Type, dtype: int64"
      ]
     },
     "execution_count": 3,
     "metadata": {},
     "output_type": "execute_result"
    }
   ],
   "source": [
    "df['Type'].value_counts()"
   ]
  },
  {
   "cell_type": "code",
   "execution_count": 10,
   "metadata": {},
   "outputs": [
    {
     "data": {
      "text/plain": [
       "Timedelta('0 days 01:57:00')"
      ]
     },
     "execution_count": 10,
     "metadata": {},
     "output_type": "execute_result"
    }
   ],
   "source": [
    "(pd.to_datetime(df['Reported_Date']) - pd.to_datetime(df['Occurred_Date'])).median()"
   ]
  },
  {
   "cell_type": "code",
   "execution_count": 11,
   "metadata": {},
   "outputs": [
    {
     "data": {
      "text/plain": [
       "Property          140605\n",
       "Non NIBRS Data     46033\n",
       "Person             40613\n",
       "Society            13536\n",
       "Not a Crime            3\n",
       "Name: NIBRS_Crime_Against, dtype: int64"
      ]
     },
     "execution_count": 11,
     "metadata": {},
     "output_type": "execute_result"
    }
   ],
   "source": [
    "df['NIBRS_Crime_Against'].value_counts()"
   ]
  },
  {
   "cell_type": "code",
   "execution_count": 12,
   "metadata": {},
   "outputs": [
    {
     "data": {
      "text/plain": [
       "Group A           194757\n",
       "Non NIBRS Data     46033\n",
       "Name: NIBRS_Group, dtype: int64"
      ]
     },
     "execution_count": 12,
     "metadata": {},
     "output_type": "execute_result"
    }
   ],
   "source": [
    "df['NIBRS_Group'].value_counts()"
   ]
  },
  {
   "cell_type": "code",
   "execution_count": 16,
   "metadata": {},
   "outputs": [
    {
     "data": {
      "text/plain": [
       "Larceny/Theft Offenses                       57949\n",
       "Shots Fired Calls                            38630\n",
       "Assault Offenses                             35646\n",
       "Destruction/Damage/Vandalism of Property     24311\n",
       "Motor Vehicle Theft                          22750\n",
       "Burglary/Breaking & Entering                 14012\n",
       "Fraud Offenses                                9234\n",
       "Robbery                                       7968\n",
       "Drug/Narcotic Offenses                        6834\n",
       "Weapon Law Violations                         6039\n",
       "Subset of NIBRS Assault Offenses              4013\n",
       "Sex Offenses                                  3630\n",
       "Stolen Property Offenses                      2125\n",
       "Gunshot Wound Victims                         1867\n",
       "Subset of NIBRS Robbery                       1523\n",
       "Counterfeiting/Forgery                        1387\n",
       "Kidnapping/Abduction                           904\n",
       "Pornography/Obscene Material                   530\n",
       "Arson                                          505\n",
       "Homicide Offenses                              360\n",
       "Embezzlement                                   241\n",
       "Extortion/Blackmail                            121\n",
       "Animal Cruelty                                 108\n",
       "Human Trafficking                               76\n",
       "Prostitution Offenses                           17\n",
       "Gambling Offenses                                8\n",
       "Bribery                                          2\n",
       "Name: Offense_Category, dtype: int64"
      ]
     },
     "execution_count": 16,
     "metadata": {},
     "output_type": "execute_result"
    }
   ],
   "source": [
    "df['Offense_Category'].value_counts()"
   ]
  },
  {
   "cell_type": "code",
   "execution_count": 22,
   "metadata": {},
   "outputs": [
    {
     "data": {
      "text/plain": [
       "All Other Larceny                                  26541\n",
       "Destruction/Damage/Vandalism of Property           24311\n",
       "Motor Vehicle Theft                                22750\n",
       "Sound of Shots Fired (P)                           18101\n",
       "ShotSpotter Activation (P)                         17802\n",
       "Simple Assault                                     17675\n",
       "Theft From Motor Vehicle                           17673\n",
       "Burglary/Breaking & Entering                       14012\n",
       "Aggravated Assault                                 10453\n",
       "Theft of Motor Vehicle Parts or Accessories         8919\n",
       "Robbery                                             7968\n",
       "Intimidation                                        7518\n",
       "Weapon Law Violations                               6039\n",
       "Drug/Narcotic Violations                            5756\n",
       "Domestic Aggravated Assault - Subset of Assault     4013\n",
       "Credit Card/Automated Teller Machine Fraud          3841\n",
       "Sex Offenses                                        3630\n",
       "Identity Theft                                      3217\n",
       "Shoplifting                                         3141\n",
       "Stolen Property Offenses                            2125\n",
       "False Pretenses/Swindle/Confidence Game             1875\n",
       "Gunshot Wound Victims                               1867\n",
       "Shooting (PFE)                                      1858\n",
       "Carjacking - Subset of Robbery                      1523\n",
       "Counterfeiting/Forgery                              1387\n",
       "Drug Equipment Violations                           1078\n",
       "Purse-snatching                                     1065\n",
       "Kidnapping/Abduction                                 904\n",
       "Shooting Report Only (P)                             869\n",
       "Theft From Building                                  568\n",
       "Pornography/Obscene Material                         530\n",
       "Arson                                                505\n",
       "Murder and Nonnegligent Manslaughter                 332\n",
       "Embezzlement                                         241\n",
       "Wire Fraud                                           236\n",
       "Extortion/Blackmail                                  121\n",
       "Animal Cruelty                                       108\n",
       "Human Trafficking, Commercial Sex Acts                46\n",
       "Hacking/Computer Invasion                             38\n",
       "Pocket-picking                                        33\n",
       "Human Trafficking, Involuntary Servitude              30\n",
       "Negligent Manslaughter                                25\n",
       "Impersonation                                         23\n",
       "Theft From Coin-Operated Machine or Device             9\n",
       "Prostitution                                           8\n",
       "Assisting or Promoting Prostitution                    7\n",
       "Welfare Fraud                                          4\n",
       "Operating/Promoting/Assisting Gambling                 4\n",
       "Betting/Wagering                                       3\n",
       "Justifiable Homicide                                   3\n",
       "Bribery                                                2\n",
       "Purchasing Prostitution                                2\n",
       "Gambling Equipment Violations                          1\n",
       "Name: Offense, dtype: int64"
      ]
     },
     "execution_count": 22,
     "metadata": {},
     "output_type": "execute_result"
    }
   ],
   "source": [
    "df['Offense'].value_counts()"
   ]
  },
  {
   "cell_type": "code",
   "execution_count": 19,
   "metadata": {},
   "outputs": [
    {
     "data": {
      "text/plain": [
       "(27, 53)"
      ]
     },
     "execution_count": 19,
     "metadata": {},
     "output_type": "execute_result"
    }
   ],
   "source": [
    "len(df['Offense_Category'].value_counts()), len(df['Offense'].value_counts())"
   ]
  },
  {
   "cell_type": "code",
   "execution_count": 20,
   "metadata": {},
   "outputs": [
    {
     "data": {
      "text/plain": [
       "ShotSpotter Activation (P)        20320\n",
       "Theft - Report Only (P)           20228\n",
       "Sound of Shots Fired (P)          19977\n",
       "Auto Theft (P)                    17979\n",
       "Domestic Abuse-In Progress (P)     9582\n",
       "                                  ...  \n",
       "Person Threat to Jump (PF)~PD         1\n",
       "Traffic Law Enforcement (P)~PD        1\n",
       "Water Emergency (PFE)~PD              1\n",
       "High Risk Warrant Entry (P)~PD        1\n",
       "Vehicle Fire (F)~FIRE                 1\n",
       "Name: Problem_Initial, Length: 349, dtype: int64"
      ]
     },
     "execution_count": 20,
     "metadata": {},
     "output_type": "execute_result"
    }
   ],
   "source": [
    "df['Problem_Initial'].value_counts()"
   ]
  },
  {
   "cell_type": "code",
   "execution_count": null,
   "metadata": {},
   "outputs": [],
   "source": []
  },
  {
   "attachments": {},
   "cell_type": "markdown",
   "metadata": {},
   "source": [
    "## PoliceUseOfForce"
   ]
  },
  {
   "cell_type": "code",
   "execution_count": 53,
   "metadata": {},
   "outputs": [
    {
     "data": {
      "text/html": [
       "<div>\n",
       "<style scoped>\n",
       "    .dataframe tbody tr th:only-of-type {\n",
       "        vertical-align: middle;\n",
       "    }\n",
       "\n",
       "    .dataframe tbody tr th {\n",
       "        vertical-align: top;\n",
       "    }\n",
       "\n",
       "    .dataframe thead th {\n",
       "        text-align: right;\n",
       "    }\n",
       "</style>\n",
       "<table border=\"1\" class=\"dataframe\">\n",
       "  <thead>\n",
       "    <tr style=\"text-align: right;\">\n",
       "      <th></th>\n",
       "      <th>Unnamed: 0</th>\n",
       "      <th>X</th>\n",
       "      <th>Y</th>\n",
       "      <th>PoliceUseOfForceID</th>\n",
       "      <th>CaseNumber</th>\n",
       "      <th>ResponseDate</th>\n",
       "      <th>Problem</th>\n",
       "      <th>Is911Call</th>\n",
       "      <th>PrimaryOffense</th>\n",
       "      <th>SubjectInjury</th>\n",
       "      <th>...</th>\n",
       "      <th>TotalCityCallsForYear</th>\n",
       "      <th>TotalPrecinctCallsForYear</th>\n",
       "      <th>TotalNeighborhoodCallsForYear</th>\n",
       "      <th>CenterGBSID</th>\n",
       "      <th>CenterLatitude</th>\n",
       "      <th>CenterLongitude</th>\n",
       "      <th>CenterX</th>\n",
       "      <th>CenterY</th>\n",
       "      <th>DateAdded</th>\n",
       "      <th>OBJECTID</th>\n",
       "    </tr>\n",
       "  </thead>\n",
       "  <tbody>\n",
       "    <tr>\n",
       "      <th>0</th>\n",
       "      <td>0</td>\n",
       "      <td>-93.296905</td>\n",
       "      <td>44.925909</td>\n",
       "      <td>51961230</td>\n",
       "      <td>08-003643</td>\n",
       "      <td>2008/01/04 10:40:37+00</td>\n",
       "      <td>Suspicious Vehicle</td>\n",
       "      <td>False</td>\n",
       "      <td>AOA</td>\n",
       "      <td>False</td>\n",
       "      <td>...</td>\n",
       "      <td>322402</td>\n",
       "      <td>55689.0</td>\n",
       "      <td>841</td>\n",
       "      <td>18837</td>\n",
       "      <td>44.925909</td>\n",
       "      <td>-93.296905</td>\n",
       "      <td>-1.038576e+07</td>\n",
       "      <td>5.609865e+06</td>\n",
       "      <td>2023/08/05 08:20:07+00</td>\n",
       "      <td>1</td>\n",
       "    </tr>\n",
       "    <tr>\n",
       "      <th>1</th>\n",
       "      <td>1</td>\n",
       "      <td>-93.291183</td>\n",
       "      <td>45.018526</td>\n",
       "      <td>51961231</td>\n",
       "      <td>08-005343</td>\n",
       "      <td>2008/01/05 22:57:23+00</td>\n",
       "      <td>Suspicious Person</td>\n",
       "      <td>False</td>\n",
       "      <td>FLEEFT</td>\n",
       "      <td>True</td>\n",
       "      <td>...</td>\n",
       "      <td>322402</td>\n",
       "      <td>80434.0</td>\n",
       "      <td>4226</td>\n",
       "      <td>18266</td>\n",
       "      <td>45.018526</td>\n",
       "      <td>-93.291183</td>\n",
       "      <td>-1.038513e+07</td>\n",
       "      <td>5.624438e+06</td>\n",
       "      <td>2023/08/05 08:20:07+00</td>\n",
       "      <td>2</td>\n",
       "    </tr>\n",
       "    <tr>\n",
       "      <th>2</th>\n",
       "      <td>2</td>\n",
       "      <td>-93.305698</td>\n",
       "      <td>45.010519</td>\n",
       "      <td>51961232</td>\n",
       "      <td>08-015086</td>\n",
       "      <td>2008/01/15 18:56:27+00</td>\n",
       "      <td>Suspicious Person</td>\n",
       "      <td>False</td>\n",
       "      <td>OBSTRU</td>\n",
       "      <td>False</td>\n",
       "      <td>...</td>\n",
       "      <td>322402</td>\n",
       "      <td>80434.0</td>\n",
       "      <td>15344</td>\n",
       "      <td>10711</td>\n",
       "      <td>45.010519</td>\n",
       "      <td>-93.305698</td>\n",
       "      <td>-1.038674e+07</td>\n",
       "      <td>5.623178e+06</td>\n",
       "      <td>2023/08/05 08:20:07+00</td>\n",
       "      <td>3</td>\n",
       "    </tr>\n",
       "    <tr>\n",
       "      <th>3</th>\n",
       "      <td>3</td>\n",
       "      <td>-93.271963</td>\n",
       "      <td>44.981655</td>\n",
       "      <td>51961233</td>\n",
       "      <td>08-025804</td>\n",
       "      <td>2008/01/27 02:31:10+00</td>\n",
       "      <td>Assault in Progress</td>\n",
       "      <td>False</td>\n",
       "      <td>ASLT4</td>\n",
       "      <td>True</td>\n",
       "      <td>...</td>\n",
       "      <td>322402</td>\n",
       "      <td>46998.0</td>\n",
       "      <td>23458</td>\n",
       "      <td>17120</td>\n",
       "      <td>44.981655</td>\n",
       "      <td>-93.271963</td>\n",
       "      <td>-1.038299e+07</td>\n",
       "      <td>5.618634e+06</td>\n",
       "      <td>2023/08/05 08:20:07+00</td>\n",
       "      <td>4</td>\n",
       "    </tr>\n",
       "    <tr>\n",
       "      <th>4</th>\n",
       "      <td>4</td>\n",
       "      <td>-93.253396</td>\n",
       "      <td>44.988867</td>\n",
       "      <td>51961234</td>\n",
       "      <td>08-031711</td>\n",
       "      <td>2008/02/02 01:19:05+00</td>\n",
       "      <td>Poss Personal Injury Acc</td>\n",
       "      <td>True</td>\n",
       "      <td>DWI</td>\n",
       "      <td>True</td>\n",
       "      <td>...</td>\n",
       "      <td>322402</td>\n",
       "      <td>48901.0</td>\n",
       "      <td>4858</td>\n",
       "      <td>19846</td>\n",
       "      <td>44.988867</td>\n",
       "      <td>-93.253396</td>\n",
       "      <td>-1.038092e+07</td>\n",
       "      <td>5.619769e+06</td>\n",
       "      <td>2023/08/05 08:20:07+00</td>\n",
       "      <td>5</td>\n",
       "    </tr>\n",
       "  </tbody>\n",
       "</table>\n",
       "<p>5 rows × 31 columns</p>\n",
       "</div>"
      ],
      "text/plain": [
       "   Unnamed: 0          X          Y  PoliceUseOfForceID CaseNumber  \\\n",
       "0           0 -93.296905  44.925909            51961230  08-003643   \n",
       "1           1 -93.291183  45.018526            51961231  08-005343   \n",
       "2           2 -93.305698  45.010519            51961232  08-015086   \n",
       "3           3 -93.271963  44.981655            51961233  08-025804   \n",
       "4           4 -93.253396  44.988867            51961234  08-031711   \n",
       "\n",
       "             ResponseDate                   Problem Is911Call PrimaryOffense  \\\n",
       "0  2008/01/04 10:40:37+00        Suspicious Vehicle     False            AOA   \n",
       "1  2008/01/05 22:57:23+00         Suspicious Person     False         FLEEFT   \n",
       "2  2008/01/15 18:56:27+00         Suspicious Person     False         OBSTRU   \n",
       "3  2008/01/27 02:31:10+00       Assault in Progress     False          ASLT4   \n",
       "4  2008/02/02 01:19:05+00  Poss Personal Injury Acc      True            DWI   \n",
       "\n",
       "  SubjectInjury  ...  TotalCityCallsForYear TotalPrecinctCallsForYear  \\\n",
       "0         False  ...                 322402                   55689.0   \n",
       "1          True  ...                 322402                   80434.0   \n",
       "2         False  ...                 322402                   80434.0   \n",
       "3          True  ...                 322402                   46998.0   \n",
       "4          True  ...                 322402                   48901.0   \n",
       "\n",
       "   TotalNeighborhoodCallsForYear CenterGBSID CenterLatitude CenterLongitude  \\\n",
       "0                            841       18837      44.925909      -93.296905   \n",
       "1                           4226       18266      45.018526      -93.291183   \n",
       "2                          15344       10711      45.010519      -93.305698   \n",
       "3                          23458       17120      44.981655      -93.271963   \n",
       "4                           4858       19846      44.988867      -93.253396   \n",
       "\n",
       "        CenterX       CenterY               DateAdded OBJECTID  \n",
       "0 -1.038576e+07  5.609865e+06  2023/08/05 08:20:07+00        1  \n",
       "1 -1.038513e+07  5.624438e+06  2023/08/05 08:20:07+00        2  \n",
       "2 -1.038674e+07  5.623178e+06  2023/08/05 08:20:07+00        3  \n",
       "3 -1.038299e+07  5.618634e+06  2023/08/05 08:20:07+00        4  \n",
       "4 -1.038092e+07  5.619769e+06  2023/08/05 08:20:07+00        5  \n",
       "\n",
       "[5 rows x 31 columns]"
      ]
     },
     "execution_count": 53,
     "metadata": {},
     "output_type": "execute_result"
    }
   ],
   "source": [
    "import pandas as pd\n",
    "\n",
    "df = pd.read_csv(\"../data/MinneapolisUseOfForce.csv\")\n",
    "df.head()"
   ]
  },
  {
   "cell_type": "code",
   "execution_count": 50,
   "metadata": {},
   "outputs": [
    {
     "data": {
      "text/plain": [
       "Unnamed: 0                           0\n",
       "X                                    0\n",
       "Y                                    0\n",
       "PoliceUseOfForceID                   0\n",
       "CaseNumber                           0\n",
       "ResponseDate                        11\n",
       "Problem                           1699\n",
       "Is911Call                         1403\n",
       "PrimaryOffense                    1395\n",
       "SubjectInjury                    18616\n",
       "ForceReportNumber                    0\n",
       "SubjectRole                       3308\n",
       "SubjectRoleNumber                 1916\n",
       "ForceType                         1392\n",
       "ForceTypeAction                      0\n",
       "Race                              1392\n",
       "Sex                               1392\n",
       "EventAge                          4589\n",
       "TypeOfResistance                  9555\n",
       "Precinct                          1426\n",
       "Neighborhood                       217\n",
       "TotalCityCallsForYear                0\n",
       "TotalPrecinctCallsForYear         1392\n",
       "TotalNeighborhoodCallsForYear        0\n",
       "CenterGBSID                          0\n",
       "CenterLatitude                       0\n",
       "CenterLongitude                      0\n",
       "CenterX                              0\n",
       "CenterY                              0\n",
       "DateAdded                            0\n",
       "OBJECTID                             0\n",
       "dtype: int64"
      ]
     },
     "execution_count": 50,
     "metadata": {},
     "output_type": "execute_result"
    }
   ],
   "source": [
    "df.isna().sum()"
   ]
  },
  {
   "cell_type": "code",
   "execution_count": 54,
   "metadata": {},
   "outputs": [
    {
     "data": {
      "text/plain": [
       "21-121360        32\n",
       "21-103599        27\n",
       "14-289909        27\n",
       "21-271904        20\n",
       "22-036480        20\n",
       "                 ..\n",
       "17-000339         1\n",
       "15-087521         1\n",
       "15-118227         1\n",
       "15-230013         1\n",
       "08-Logan Park     1\n",
       "Name: CaseNumber, Length: 17820, dtype: int64"
      ]
     },
     "execution_count": 54,
     "metadata": {},
     "output_type": "execute_result"
    }
   ],
   "source": [
    "df['CaseNumber'].value_counts()"
   ]
  },
  {
   "cell_type": "code",
   "execution_count": 59,
   "metadata": {},
   "outputs": [
    {
     "data": {
      "text/plain": [
       "{'Unnamed: 0': 39516,\n",
       " 'X': 4164,\n",
       " 'Y': 4164,\n",
       " 'PoliceUseOfForceID': 39516,\n",
       " 'CaseNumber': 17820,\n",
       " 'ResponseDate': 16436,\n",
       " 'Problem': 144,\n",
       " 'Is911Call': 2,\n",
       " 'PrimaryOffense': 223,\n",
       " 'SubjectInjury': 2,\n",
       " 'ForceReportNumber': 35,\n",
       " 'SubjectRole': 37,\n",
       " 'SubjectRoleNumber': 25,\n",
       " 'ForceType': 11,\n",
       " 'ForceTypeAction': 49,\n",
       " 'Race': 8,\n",
       " 'Sex': 4,\n",
       " 'EventAge': 73,\n",
       " 'TypeOfResistance': 20,\n",
       " 'Precinct': 10,\n",
       " 'Neighborhood': 87,\n",
       " 'TotalCityCallsForYear': 17,\n",
       " 'TotalPrecinctCallsForYear': 92,\n",
       " 'TotalNeighborhoodCallsForYear': 1249,\n",
       " 'CenterGBSID': 4164,\n",
       " 'CenterLatitude': 3782,\n",
       " 'CenterLongitude': 3953,\n",
       " 'CenterX': 4164,\n",
       " 'CenterY': 4164,\n",
       " 'DateAdded': 3,\n",
       " 'OBJECTID': 39516}"
      ]
     },
     "execution_count": 59,
     "metadata": {},
     "output_type": "execute_result"
    }
   ],
   "source": [
    "dict(df.nunique())"
   ]
  },
  {
   "cell_type": "code",
   "execution_count": 55,
   "metadata": {},
   "outputs": [
    {
     "data": {
      "text/plain": [
       "[]"
      ]
     },
     "execution_count": 55,
     "metadata": {},
     "output_type": "execute_result"
    }
   ],
   "source": [
    "unique_counts = df.nunique()\n",
    "unique_counts[unique_counts == 1].index.tolist()"
   ]
  },
  {
   "cell_type": "code",
   "execution_count": 28,
   "metadata": {},
   "outputs": [
    {
     "data": {
      "text/html": [
       "<div>\n",
       "<style scoped>\n",
       "    .dataframe tbody tr th:only-of-type {\n",
       "        vertical-align: middle;\n",
       "    }\n",
       "\n",
       "    .dataframe tbody tr th {\n",
       "        vertical-align: top;\n",
       "    }\n",
       "\n",
       "    .dataframe thead th {\n",
       "        text-align: right;\n",
       "    }\n",
       "</style>\n",
       "<table border=\"1\" class=\"dataframe\">\n",
       "  <thead>\n",
       "    <tr style=\"text-align: right;\">\n",
       "      <th></th>\n",
       "      <th>X</th>\n",
       "      <th>Y</th>\n",
       "      <th>PoliceUseOfForceID</th>\n",
       "      <th>CaseNumber</th>\n",
       "      <th>ResponseDate</th>\n",
       "      <th>Problem</th>\n",
       "      <th>Is911Call</th>\n",
       "      <th>PrimaryOffense</th>\n",
       "      <th>SubjectInjury</th>\n",
       "      <th>ForceReportNumber</th>\n",
       "      <th>...</th>\n",
       "      <th>TotalCityCallsForYear</th>\n",
       "      <th>TotalPrecinctCallsForYear</th>\n",
       "      <th>TotalNeighborhoodCallsForYear</th>\n",
       "      <th>CenterGBSID</th>\n",
       "      <th>CenterLatitude</th>\n",
       "      <th>CenterLongitude</th>\n",
       "      <th>CenterX</th>\n",
       "      <th>CenterY</th>\n",
       "      <th>DateAdded</th>\n",
       "      <th>OBJECTID</th>\n",
       "    </tr>\n",
       "  </thead>\n",
       "  <tbody>\n",
       "    <tr>\n",
       "      <th>0</th>\n",
       "      <td>-93.296905</td>\n",
       "      <td>44.925909</td>\n",
       "      <td>51961230</td>\n",
       "      <td>08-003643</td>\n",
       "      <td>2008/01/04 10:40:37+00</td>\n",
       "      <td>Suspicious Vehicle</td>\n",
       "      <td>False</td>\n",
       "      <td>AOA</td>\n",
       "      <td>False</td>\n",
       "      <td>1</td>\n",
       "      <td>...</td>\n",
       "      <td>322402</td>\n",
       "      <td>55689.0</td>\n",
       "      <td>841</td>\n",
       "      <td>18837</td>\n",
       "      <td>44.925909</td>\n",
       "      <td>-93.296905</td>\n",
       "      <td>-1.038576e+07</td>\n",
       "      <td>5.609865e+06</td>\n",
       "      <td>2023/08/05 08:20:07+00</td>\n",
       "      <td>1</td>\n",
       "    </tr>\n",
       "    <tr>\n",
       "      <th>1</th>\n",
       "      <td>-93.291183</td>\n",
       "      <td>45.018526</td>\n",
       "      <td>51961231</td>\n",
       "      <td>08-005343</td>\n",
       "      <td>2008/01/05 22:57:23+00</td>\n",
       "      <td>Suspicious Person</td>\n",
       "      <td>False</td>\n",
       "      <td>FLEEFT</td>\n",
       "      <td>True</td>\n",
       "      <td>1</td>\n",
       "      <td>...</td>\n",
       "      <td>322402</td>\n",
       "      <td>80434.0</td>\n",
       "      <td>4226</td>\n",
       "      <td>18266</td>\n",
       "      <td>45.018526</td>\n",
       "      <td>-93.291183</td>\n",
       "      <td>-1.038513e+07</td>\n",
       "      <td>5.624438e+06</td>\n",
       "      <td>2023/08/05 08:20:07+00</td>\n",
       "      <td>2</td>\n",
       "    </tr>\n",
       "    <tr>\n",
       "      <th>2</th>\n",
       "      <td>-93.305698</td>\n",
       "      <td>45.010519</td>\n",
       "      <td>51961232</td>\n",
       "      <td>08-015086</td>\n",
       "      <td>2008/01/15 18:56:27+00</td>\n",
       "      <td>Suspicious Person</td>\n",
       "      <td>False</td>\n",
       "      <td>OBSTRU</td>\n",
       "      <td>False</td>\n",
       "      <td>1</td>\n",
       "      <td>...</td>\n",
       "      <td>322402</td>\n",
       "      <td>80434.0</td>\n",
       "      <td>15344</td>\n",
       "      <td>10711</td>\n",
       "      <td>45.010519</td>\n",
       "      <td>-93.305698</td>\n",
       "      <td>-1.038674e+07</td>\n",
       "      <td>5.623178e+06</td>\n",
       "      <td>2023/08/05 08:20:07+00</td>\n",
       "      <td>3</td>\n",
       "    </tr>\n",
       "    <tr>\n",
       "      <th>3</th>\n",
       "      <td>-93.271963</td>\n",
       "      <td>44.981655</td>\n",
       "      <td>51961233</td>\n",
       "      <td>08-025804</td>\n",
       "      <td>2008/01/27 02:31:10+00</td>\n",
       "      <td>Assault in Progress</td>\n",
       "      <td>False</td>\n",
       "      <td>ASLT4</td>\n",
       "      <td>True</td>\n",
       "      <td>1</td>\n",
       "      <td>...</td>\n",
       "      <td>322402</td>\n",
       "      <td>46998.0</td>\n",
       "      <td>23458</td>\n",
       "      <td>17120</td>\n",
       "      <td>44.981655</td>\n",
       "      <td>-93.271963</td>\n",
       "      <td>-1.038299e+07</td>\n",
       "      <td>5.618634e+06</td>\n",
       "      <td>2023/08/05 08:20:07+00</td>\n",
       "      <td>4</td>\n",
       "    </tr>\n",
       "    <tr>\n",
       "      <th>4</th>\n",
       "      <td>-93.253396</td>\n",
       "      <td>44.988867</td>\n",
       "      <td>51961234</td>\n",
       "      <td>08-031711</td>\n",
       "      <td>2008/02/02 01:19:05+00</td>\n",
       "      <td>Poss Personal Injury Acc</td>\n",
       "      <td>True</td>\n",
       "      <td>DWI</td>\n",
       "      <td>True</td>\n",
       "      <td>1</td>\n",
       "      <td>...</td>\n",
       "      <td>322402</td>\n",
       "      <td>48901.0</td>\n",
       "      <td>4858</td>\n",
       "      <td>19846</td>\n",
       "      <td>44.988867</td>\n",
       "      <td>-93.253396</td>\n",
       "      <td>-1.038092e+07</td>\n",
       "      <td>5.619769e+06</td>\n",
       "      <td>2023/08/05 08:20:07+00</td>\n",
       "      <td>5</td>\n",
       "    </tr>\n",
       "  </tbody>\n",
       "</table>\n",
       "<p>5 rows × 30 columns</p>\n",
       "</div>"
      ],
      "text/plain": [
       "           X          Y  PoliceUseOfForceID CaseNumber  \\\n",
       "0 -93.296905  44.925909            51961230  08-003643   \n",
       "1 -93.291183  45.018526            51961231  08-005343   \n",
       "2 -93.305698  45.010519            51961232  08-015086   \n",
       "3 -93.271963  44.981655            51961233  08-025804   \n",
       "4 -93.253396  44.988867            51961234  08-031711   \n",
       "\n",
       "             ResponseDate                   Problem Is911Call PrimaryOffense  \\\n",
       "0  2008/01/04 10:40:37+00        Suspicious Vehicle     False            AOA   \n",
       "1  2008/01/05 22:57:23+00         Suspicious Person     False         FLEEFT   \n",
       "2  2008/01/15 18:56:27+00         Suspicious Person     False         OBSTRU   \n",
       "3  2008/01/27 02:31:10+00       Assault in Progress     False          ASLT4   \n",
       "4  2008/02/02 01:19:05+00  Poss Personal Injury Acc      True            DWI   \n",
       "\n",
       "  SubjectInjury  ForceReportNumber  ... TotalCityCallsForYear  \\\n",
       "0         False                  1  ...                322402   \n",
       "1          True                  1  ...                322402   \n",
       "2         False                  1  ...                322402   \n",
       "3          True                  1  ...                322402   \n",
       "4          True                  1  ...                322402   \n",
       "\n",
       "   TotalPrecinctCallsForYear TotalNeighborhoodCallsForYear CenterGBSID  \\\n",
       "0                    55689.0                           841       18837   \n",
       "1                    80434.0                          4226       18266   \n",
       "2                    80434.0                         15344       10711   \n",
       "3                    46998.0                         23458       17120   \n",
       "4                    48901.0                          4858       19846   \n",
       "\n",
       "  CenterLatitude CenterLongitude       CenterX       CenterY  \\\n",
       "0      44.925909      -93.296905 -1.038576e+07  5.609865e+06   \n",
       "1      45.018526      -93.291183 -1.038513e+07  5.624438e+06   \n",
       "2      45.010519      -93.305698 -1.038674e+07  5.623178e+06   \n",
       "3      44.981655      -93.271963 -1.038299e+07  5.618634e+06   \n",
       "4      44.988867      -93.253396 -1.038092e+07  5.619769e+06   \n",
       "\n",
       "                DateAdded OBJECTID  \n",
       "0  2023/08/05 08:20:07+00        1  \n",
       "1  2023/08/05 08:20:07+00        2  \n",
       "2  2023/08/05 08:20:07+00        3  \n",
       "3  2023/08/05 08:20:07+00        4  \n",
       "4  2023/08/05 08:20:07+00        5  \n",
       "\n",
       "[5 rows x 30 columns]"
      ]
     },
     "execution_count": 28,
     "metadata": {},
     "output_type": "execute_result"
    }
   ],
   "source": [
    "mapping = {\"Yes\": True, \"No\": False}\n",
    "df['Is911Call'] = df['Is911Call'].map(mapping)\n",
    "df['SubjectInjury'] = df['SubjectInjury'].map(mapping)\n",
    "df['Problem'] = df['Problem'].str.strip().replace(' ', '_')\n",
    "df['ForceType'] = df['ForceType'].str.strip().replace(' ', '_')\n",
    "df['ForceTypeAction'] = df['ForceTypeAction'].str.strip().replace(' ', '_')\n",
    "df['TypeOfResistance'] = df['TypeOfResistance'].str.strip().replace(' ', '_')\n",
    "df.head()\n"
   ]
  },
  {
   "cell_type": "code",
   "execution_count": 29,
   "metadata": {},
   "outputs": [
    {
     "data": {
      "text/plain": [
       "Tensed                     8187\n",
       "Commission of Crime        5571\n",
       "Fled on Foot               4614\n",
       "Assaulted Officer          3332\n",
       "Verbal Non-Compliance      3312\n",
       "Unspecified                2158\n",
       "Other                      1089\n",
       "Fled in Vehicle             736\n",
       "Commission of a Crime       685\n",
       "Fled in a Vehicle           137\n",
       "Assaulting Police Horse      49\n",
       "X                            34\n",
       "commission of crime          20\n",
       "Assaulting Police K9         14\n",
       "tensed                       10\n",
       "TENSED                        7\n",
       "verbal non-compliance         2\n",
       "Assaulted Police Horse        2\n",
       "Assaulted Police K9           1\n",
       "COMMISSION OF CRIME           1\n",
       "Name: TypeOfResistance, dtype: int64"
      ]
     },
     "execution_count": 29,
     "metadata": {},
     "output_type": "execute_result"
    }
   ],
   "source": [
    "df['TypeOfResistance'].value_counts()"
   ]
  },
  {
   "cell_type": "code",
   "execution_count": 30,
   "metadata": {},
   "outputs": [],
   "source": [
    "df.to_csv(\"MinneapolisUseOfForce.csv\")"
   ]
  },
  {
   "cell_type": "code",
   "execution_count": 32,
   "metadata": {},
   "outputs": [
    {
     "data": {
      "text/plain": [
       "Index(['X', 'Y', 'PoliceUseOfForceID', 'CaseNumber', 'ResponseDate', 'Problem',\n",
       "       'Is911Call', 'PrimaryOffense', 'SubjectInjury', 'ForceReportNumber',\n",
       "       'SubjectRole', 'SubjectRoleNumber', 'ForceType', 'ForceTypeAction',\n",
       "       'Race', 'Sex', 'EventAge', 'TypeOfResistance', 'Precinct',\n",
       "       'Neighborhood', 'TotalCityCallsForYear', 'TotalPrecinctCallsForYear',\n",
       "       'TotalNeighborhoodCallsForYear', 'CenterGBSID', 'CenterLatitude',\n",
       "       'CenterLongitude', 'CenterX', 'CenterY', 'DateAdded', 'OBJECTID'],\n",
       "      dtype='object')"
      ]
     },
     "execution_count": 32,
     "metadata": {},
     "output_type": "execute_result"
    }
   ],
   "source": [
    "df.columns"
   ]
  },
  {
   "cell_type": "code",
   "execution_count": 33,
   "metadata": {},
   "outputs": [
    {
     "data": {
      "text/plain": [
       "Suspicious Person             5553\n",
       "Fight                         3519\n",
       "Domestic Abuse-In Progress    2707\n",
       "Disturbance                   2581\n",
       "Suspicious Vehicle            1851\n",
       "                              ... \n",
       "Kid Trouble                      1\n",
       "Crank 9-1-1 Call                 1\n",
       "Down Outide-One w/Fire           1\n",
       "Aircraft Crash in City           1\n",
       "Check Hazard                     1\n",
       "Name: Problem, Length: 144, dtype: int64"
      ]
     },
     "execution_count": 33,
     "metadata": {},
     "output_type": "execute_result"
    }
   ],
   "source": [
    "df['Problem'].value_counts()"
   ]
  },
  {
   "cell_type": "code",
   "execution_count": 35,
   "metadata": {},
   "outputs": [
    {
     "data": {
      "text/plain": [
       "OBSTRU    5352\n",
       "DISCON    3428\n",
       "ASLT4     3262\n",
       "FORCE     2767\n",
       "CIC       2504\n",
       "          ... \n",
       "HOUSNG       1\n",
       "EVENTS       1\n",
       "SCHEVT       1\n",
       "OPBTMV       1\n",
       "CRANK        1\n",
       "Name: PrimaryOffense, Length: 223, dtype: int64"
      ]
     },
     "execution_count": 35,
     "metadata": {},
     "output_type": "execute_result"
    }
   ],
   "source": [
    "df['PrimaryOffense'].value_counts()"
   ]
  },
  {
   "cell_type": "code",
   "execution_count": 36,
   "metadata": {},
   "outputs": [
    {
     "data": {
      "text/plain": [
       "A                       19601\n",
       "ARRESTEE                 6441\n",
       "S                        2574\n",
       "OT                       2129\n",
       "PERSON IN CRISIS         1501\n",
       "SUSPECT                  1369\n",
       "INVOLVED                  647\n",
       "SUBJECT                   579\n",
       "Citee                     300\n",
       "V                         287\n",
       "OTHER                     263\n",
       "O                          96\n",
       "VICTIM                     89\n",
       "PV                         64\n",
       "VICT/ARRESTEE              47\n",
       "SP                         41\n",
       "VICT/SUSPECT               41\n",
       "W                          16\n",
       "DRIVER                     16\n",
       "AL                         14\n",
       "PARENT/GRDN                14\n",
       "PASSENGER                  11\n",
       "OWNER                      11\n",
       "JUV-ARRESTEE                8\n",
       "PG                          7\n",
       "WITNESS                     7\n",
       "REPORTING PARTY             6\n",
       "R                           5\n",
       "JUV-SUSPECT                 5\n",
       "OFFENDER                    5\n",
       "MP                          5\n",
       "JUV-CITED                   3\n",
       "JUV-PERSON IN CRISIS        2\n",
       "JUV-OTHER                   1\n",
       "GANG AFFLIATE               1\n",
       "CT                          1\n",
       "RUNAWAY                     1\n",
       "Name: SubjectRole, dtype: int64"
      ]
     },
     "execution_count": 36,
     "metadata": {},
     "output_type": "execute_result"
    }
   ],
   "source": [
    "df['SubjectRole'].value_counts()"
   ]
  },
  {
   "cell_type": "code",
   "execution_count": 37,
   "metadata": {},
   "outputs": [
    {
     "data": {
      "text/plain": [
       "1.0     31498\n",
       "2.0      3298\n",
       "0.0      1393\n",
       "3.0       797\n",
       "4.0       295\n",
       "5.0        95\n",
       "6.0        65\n",
       "7.0        32\n",
       "8.0        32\n",
       "9.0        25\n",
       "11.0       12\n",
       "13.0       11\n",
       "15.0       11\n",
       "10.0        9\n",
       "17.0        6\n",
       "12.0        6\n",
       "14.0        4\n",
       "31.0        2\n",
       "18.0        2\n",
       "16.0        2\n",
       "23.0        1\n",
       "41.0        1\n",
       "32.0        1\n",
       "28.0        1\n",
       "24.0        1\n",
       "Name: SubjectRoleNumber, dtype: int64"
      ]
     },
     "execution_count": 37,
     "metadata": {},
     "output_type": "execute_result"
    }
   ],
   "source": [
    "df['SubjectRoleNumber'].value_counts()"
   ]
  },
  {
   "cell_type": "code",
   "execution_count": 38,
   "metadata": {},
   "outputs": [
    {
     "data": {
      "text/plain": [
       "Bodily Force                   27426\n",
       "Chemical Irritant               4570\n",
       "Taser                           4499\n",
       "Gun Point Display                439\n",
       "Improvised Weapon                401\n",
       "Police K9 Bite                   303\n",
       "Maximal Restraint Technique      195\n",
       "Less Lethal                      173\n",
       "Baton                             58\n",
       "Firearm                           44\n",
       "Less Lethal Projectile            16\n",
       "Name: ForceType, dtype: int64"
      ]
     },
     "execution_count": 38,
     "metadata": {},
     "output_type": "execute_result"
    }
   ],
   "source": [
    "df['ForceType'].value_counts()"
   ]
  },
  {
   "cell_type": "code",
   "execution_count": 39,
   "metadata": {},
   "outputs": [
    {
     "data": {
      "text/plain": [
       "Body Weight to Pin                                   6468\n",
       "Body Weight Pin                                      4395\n",
       "Joint Lock                                           4122\n",
       "Punches                                              2949\n",
       "Personal Mace                                        2732\n",
       "Push Away                                            2640\n",
       "Takedown                                             2197\n",
       "Crowd Control Mace                                   1779\n",
       "Firing Darts                                         1729\n",
       "Knees                                                1616\n",
       "0                                                    1392\n",
       "Kicks                                                1198\n",
       "Display                                               983\n",
       "Red Dot                                               956\n",
       "Slaps                                                 606\n",
       "Touch                                                 568\n",
       "Compliance                                            439\n",
       "Conscious Neck Restraint                              310\n",
       "Punch                                                 291\n",
       "Knee                                                  262\n",
       "Bean Bag Round                                        180\n",
       "Side Recovery Position                                174\n",
       "Both                                                  166\n",
       "On Lead                                               165\n",
       "Flashlight                                            151\n",
       "Off Lead                                              138\n",
       "LVNR1                                                 115\n",
       "Other (specify)                                       110\n",
       "Arcing                                                 97\n",
       "Neck Restraint: subject did not lose conciousness      81\n",
       "Other Improvised Weapon                                67\n",
       "Chemical Munitions                                     59\n",
       "Unconscious Neck Restraint                             54\n",
       "Firearm as striking tool                               52\n",
       "Strikes                                                49\n",
       "Hand Gun                                               42\n",
       "LVNR2                                                  37\n",
       "Slap                                                   36\n",
       "LVNR3                                                  35\n",
       "Not Side Recovery Position                             21\n",
       "Neck Restraint: subject lost conciousness              14\n",
       "Vehicle                                                10\n",
       "40MM                                                    9\n",
       "Bicycle                                                 9\n",
       "Jabs                                                    5\n",
       "Crowd Control Techniques                                4\n",
       "Firearms As Striking Tool                               2\n",
       "Shot Gun                                                1\n",
       "Patrol Rifle                                            1\n",
       "Name: ForceTypeAction, dtype: int64"
      ]
     },
     "execution_count": 39,
     "metadata": {},
     "output_type": "execute_result"
    }
   ],
   "source": [
    "df['ForceTypeAction'].value_counts()"
   ]
  },
  {
   "cell_type": "code",
   "execution_count": 40,
   "metadata": {},
   "outputs": [
    {
     "data": {
      "text/plain": [
       "Male            30667\n",
       "Female           4940\n",
       "not recorded     2272\n",
       "Unknown           245\n",
       "Name: Sex, dtype: int64"
      ]
     },
     "execution_count": 40,
     "metadata": {},
     "output_type": "execute_result"
    }
   ],
   "source": [
    "df['Sex'].value_counts()"
   ]
  },
  {
   "cell_type": "code",
   "execution_count": 41,
   "metadata": {},
   "outputs": [
    {
     "data": {
      "text/plain": [
       "Black                 22432\n",
       "White                  8820\n",
       "not recorded           2395\n",
       "Native American        1975\n",
       "Other / Mixed Race     1095\n",
       "Unknown                 941\n",
       "Asian                   457\n",
       "Pacific Islander          9\n",
       "Name: Race, dtype: int64"
      ]
     },
     "execution_count": 41,
     "metadata": {},
     "output_type": "execute_result"
    }
   ],
   "source": [
    "df['Race'].value_counts()"
   ]
  },
  {
   "cell_type": "code",
   "execution_count": 42,
   "metadata": {},
   "outputs": [
    {
     "data": {
      "text/plain": [
       "Tensed                     8187\n",
       "Commission of Crime        5571\n",
       "Fled on Foot               4614\n",
       "Assaulted Officer          3332\n",
       "Verbal Non-Compliance      3312\n",
       "Unspecified                2158\n",
       "Other                      1089\n",
       "Fled in Vehicle             736\n",
       "Commission of a Crime       685\n",
       "Fled in a Vehicle           137\n",
       "Assaulting Police Horse      49\n",
       "X                            34\n",
       "commission of crime          20\n",
       "Assaulting Police K9         14\n",
       "tensed                       10\n",
       "TENSED                        7\n",
       "verbal non-compliance         2\n",
       "Assaulted Police Horse        2\n",
       "Assaulted Police K9           1\n",
       "COMMISSION OF CRIME           1\n",
       "Name: TypeOfResistance, dtype: int64"
      ]
     },
     "execution_count": 42,
     "metadata": {},
     "output_type": "execute_result"
    }
   ],
   "source": [
    "df['TypeOfResistance'].value_counts()"
   ]
  },
  {
   "cell_type": "code",
   "execution_count": 43,
   "metadata": {},
   "outputs": [
    {
     "data": {
      "text/plain": [
       "Downtown West               8967\n",
       "Jordan                      1734\n",
       "Hawthorne                   1633\n",
       "Near - North                1539\n",
       "Willard - Hay               1239\n",
       "                            ... \n",
       "Page                          39\n",
       "Cedar - Isles - Dean          36\n",
       "Camden Industrial             35\n",
       "Kenny                         22\n",
       "Humboldt Industrial Area      16\n",
       "Name: Neighborhood, Length: 87, dtype: int64"
      ]
     },
     "execution_count": 43,
     "metadata": {},
     "output_type": "execute_result"
    }
   ],
   "source": [
    "df['Neighborhood'].value_counts()"
   ]
  },
  {
   "cell_type": "code",
   "execution_count": 44,
   "metadata": {},
   "outputs": [
    {
     "data": {
      "text/plain": [
       "222416    3580\n",
       "322402    3327\n",
       "227819    3021\n",
       "316150    3021\n",
       "314926    2596\n",
       "245142    2593\n",
       "313095    2579\n",
       "324520    2495\n",
       "355617    2442\n",
       "347093    2290\n",
       "302056    2159\n",
       "359611    2135\n",
       "344377    2055\n",
       "380794    2017\n",
       "351659    1992\n",
       "153869    1203\n",
       "0           11\n",
       "Name: TotalCityCallsForYear, dtype: int64"
      ]
     },
     "execution_count": 44,
     "metadata": {},
     "output_type": "execute_result"
    }
   ],
   "source": [
    "df['TotalCityCallsForYear'].value_counts()\n"
   ]
  },
  {
   "cell_type": "code",
   "execution_count": null,
   "metadata": {},
   "outputs": [],
   "source": []
  }
 ],
 "metadata": {
  "kernelspec": {
   "display_name": "Python 3",
   "language": "python",
   "name": "python3"
  },
  "language_info": {
   "codemirror_mode": {
    "name": "ipython",
    "version": 3
   },
   "file_extension": ".py",
   "mimetype": "text/x-python",
   "name": "python",
   "nbconvert_exporter": "python",
   "pygments_lexer": "ipython3",
   "version": "3.11.3"
  },
  "orig_nbformat": 4
 },
 "nbformat": 4,
 "nbformat_minor": 2
}
